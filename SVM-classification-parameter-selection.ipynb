{
 "cells": [
  {
   "cell_type": "markdown",
   "metadata": {
    "_uuid": "ff39e8888a0e9c6873925cd143d2f00ff36c8a63"
   },
   "source": [
    "# Classification (MultiClass) using SVM & Optimal Parameter Selection"
   ]
  },
  {
   "cell_type": "markdown",
   "metadata": {
    "_uuid": "06b1aae4fd8fd4fca77782f9c7b37669590c9a38"
   },
   "source": [
    "**Task :** To classify digits from 0 to 9 using [MNIST Handdrawn Digits Image Datatset](https://www.kaggle.com/c/digit-recognizer).\n",
    "\n",
    "**About Data: **\n",
    "Data contains images of hand-drawn digits, from zero through nine. \n",
    "\n",
    "Image Details : Gray Scale , 28x28 pixel ,pixel value - 0(lightest) to 255(darkest)\n"
   ]
  },
  {
   "cell_type": "markdown",
   "metadata": {
    "_uuid": "c22b325f8725618f30d7bbf0e03b305c10f88c33"
   },
   "source": [
    "Importing required libraries"
   ]
  },
  {
   "cell_type": "code",
   "execution_count": 2,
   "metadata": {
    "_cell_guid": "b1076dfc-b9ad-4769-8c92-a6c4dae69d19",
    "_uuid": "8f2839f25d086af736a60e9eeb907d3b93b6e0e5"
   },
   "outputs": [],
   "source": [
    "import numpy as np # linear algebra\n",
    "import pandas as pd # data processing, CSV file I/O (e.g. pd.read_csv)\n",
    "import os\n",
    "from sklearn.model_selection import train_test_split\n",
    "import matplotlib.pyplot as plt, matplotlib.image as mpimg\n",
    "import time \n",
    "import warnings\n",
    "from sklearn import svm\n",
    "from sklearn.model_selection import GridSearchCV\n",
    "\n",
    "%matplotlib inline\n",
    "warnings.filterwarnings('ignore')\n"
   ]
  },
  {
   "cell_type": "markdown",
   "metadata": {
    "_uuid": "547be527a3369f1bd7e3859c4c4fe8ee64ddf65a"
   },
   "source": [
    "  ## <a id=\"explore\">1. Exploring and Preparing Data</a>\n",
    "<br>\n",
    "Reading data from \"train.csv\", which will later be divided into train(to train model) and test(to check accuracy).  "
   ]
  },
  {
   "cell_type": "code",
   "execution_count": 3,
   "metadata": {
    "_cell_guid": "79c7e3d0-c299-4dcb-8224-4455121ee9b0",
    "_uuid": "d629ff2d2480ee46fbb7e2d37f6b5fab8052498a"
   },
   "outputs": [
    {
     "name": "stdout",
     "output_type": "stream",
     "text": [
      "Train Data Shape is:  (42000, 785)\n"
     ]
    },
    {
     "data": {
      "text/html": [
       "<div>\n",
       "<style scoped>\n",
       "    .dataframe tbody tr th:only-of-type {\n",
       "        vertical-align: middle;\n",
       "    }\n",
       "\n",
       "    .dataframe tbody tr th {\n",
       "        vertical-align: top;\n",
       "    }\n",
       "\n",
       "    .dataframe thead th {\n",
       "        text-align: right;\n",
       "    }\n",
       "</style>\n",
       "<table border=\"1\" class=\"dataframe\">\n",
       "  <thead>\n",
       "    <tr style=\"text-align: right;\">\n",
       "      <th></th>\n",
       "      <th>label</th>\n",
       "      <th>pixel0</th>\n",
       "      <th>pixel1</th>\n",
       "      <th>pixel2</th>\n",
       "      <th>pixel3</th>\n",
       "      <th>pixel4</th>\n",
       "      <th>pixel5</th>\n",
       "      <th>pixel6</th>\n",
       "      <th>pixel7</th>\n",
       "      <th>pixel8</th>\n",
       "      <th>...</th>\n",
       "      <th>pixel774</th>\n",
       "      <th>pixel775</th>\n",
       "      <th>pixel776</th>\n",
       "      <th>pixel777</th>\n",
       "      <th>pixel778</th>\n",
       "      <th>pixel779</th>\n",
       "      <th>pixel780</th>\n",
       "      <th>pixel781</th>\n",
       "      <th>pixel782</th>\n",
       "      <th>pixel783</th>\n",
       "    </tr>\n",
       "  </thead>\n",
       "  <tbody>\n",
       "    <tr>\n",
       "      <td>0</td>\n",
       "      <td>1</td>\n",
       "      <td>0</td>\n",
       "      <td>0</td>\n",
       "      <td>0</td>\n",
       "      <td>0</td>\n",
       "      <td>0</td>\n",
       "      <td>0</td>\n",
       "      <td>0</td>\n",
       "      <td>0</td>\n",
       "      <td>0</td>\n",
       "      <td>...</td>\n",
       "      <td>0</td>\n",
       "      <td>0</td>\n",
       "      <td>0</td>\n",
       "      <td>0</td>\n",
       "      <td>0</td>\n",
       "      <td>0</td>\n",
       "      <td>0</td>\n",
       "      <td>0</td>\n",
       "      <td>0</td>\n",
       "      <td>0</td>\n",
       "    </tr>\n",
       "    <tr>\n",
       "      <td>1</td>\n",
       "      <td>0</td>\n",
       "      <td>0</td>\n",
       "      <td>0</td>\n",
       "      <td>0</td>\n",
       "      <td>0</td>\n",
       "      <td>0</td>\n",
       "      <td>0</td>\n",
       "      <td>0</td>\n",
       "      <td>0</td>\n",
       "      <td>0</td>\n",
       "      <td>...</td>\n",
       "      <td>0</td>\n",
       "      <td>0</td>\n",
       "      <td>0</td>\n",
       "      <td>0</td>\n",
       "      <td>0</td>\n",
       "      <td>0</td>\n",
       "      <td>0</td>\n",
       "      <td>0</td>\n",
       "      <td>0</td>\n",
       "      <td>0</td>\n",
       "    </tr>\n",
       "    <tr>\n",
       "      <td>2</td>\n",
       "      <td>1</td>\n",
       "      <td>0</td>\n",
       "      <td>0</td>\n",
       "      <td>0</td>\n",
       "      <td>0</td>\n",
       "      <td>0</td>\n",
       "      <td>0</td>\n",
       "      <td>0</td>\n",
       "      <td>0</td>\n",
       "      <td>0</td>\n",
       "      <td>...</td>\n",
       "      <td>0</td>\n",
       "      <td>0</td>\n",
       "      <td>0</td>\n",
       "      <td>0</td>\n",
       "      <td>0</td>\n",
       "      <td>0</td>\n",
       "      <td>0</td>\n",
       "      <td>0</td>\n",
       "      <td>0</td>\n",
       "      <td>0</td>\n",
       "    </tr>\n",
       "    <tr>\n",
       "      <td>3</td>\n",
       "      <td>4</td>\n",
       "      <td>0</td>\n",
       "      <td>0</td>\n",
       "      <td>0</td>\n",
       "      <td>0</td>\n",
       "      <td>0</td>\n",
       "      <td>0</td>\n",
       "      <td>0</td>\n",
       "      <td>0</td>\n",
       "      <td>0</td>\n",
       "      <td>...</td>\n",
       "      <td>0</td>\n",
       "      <td>0</td>\n",
       "      <td>0</td>\n",
       "      <td>0</td>\n",
       "      <td>0</td>\n",
       "      <td>0</td>\n",
       "      <td>0</td>\n",
       "      <td>0</td>\n",
       "      <td>0</td>\n",
       "      <td>0</td>\n",
       "    </tr>\n",
       "    <tr>\n",
       "      <td>4</td>\n",
       "      <td>0</td>\n",
       "      <td>0</td>\n",
       "      <td>0</td>\n",
       "      <td>0</td>\n",
       "      <td>0</td>\n",
       "      <td>0</td>\n",
       "      <td>0</td>\n",
       "      <td>0</td>\n",
       "      <td>0</td>\n",
       "      <td>0</td>\n",
       "      <td>...</td>\n",
       "      <td>0</td>\n",
       "      <td>0</td>\n",
       "      <td>0</td>\n",
       "      <td>0</td>\n",
       "      <td>0</td>\n",
       "      <td>0</td>\n",
       "      <td>0</td>\n",
       "      <td>0</td>\n",
       "      <td>0</td>\n",
       "      <td>0</td>\n",
       "    </tr>\n",
       "  </tbody>\n",
       "</table>\n",
       "<p>5 rows × 785 columns</p>\n",
       "</div>"
      ],
      "text/plain": [
       "   label  pixel0  pixel1  pixel2  pixel3  pixel4  pixel5  pixel6  pixel7  \\\n",
       "0      1       0       0       0       0       0       0       0       0   \n",
       "1      0       0       0       0       0       0       0       0       0   \n",
       "2      1       0       0       0       0       0       0       0       0   \n",
       "3      4       0       0       0       0       0       0       0       0   \n",
       "4      0       0       0       0       0       0       0       0       0   \n",
       "\n",
       "   pixel8  ...  pixel774  pixel775  pixel776  pixel777  pixel778  pixel779  \\\n",
       "0       0  ...         0         0         0         0         0         0   \n",
       "1       0  ...         0         0         0         0         0         0   \n",
       "2       0  ...         0         0         0         0         0         0   \n",
       "3       0  ...         0         0         0         0         0         0   \n",
       "4       0  ...         0         0         0         0         0         0   \n",
       "\n",
       "   pixel780  pixel781  pixel782  pixel783  \n",
       "0         0         0         0         0  \n",
       "1         0         0         0         0  \n",
       "2         0         0         0         0  \n",
       "3         0         0         0         0  \n",
       "4         0         0         0         0  \n",
       "\n",
       "[5 rows x 785 columns]"
      ]
     },
     "execution_count": 3,
     "metadata": {},
     "output_type": "execute_result"
    }
   ],
   "source": [
    "data = pd.read_csv('train.csv')\n",
    "print(\"Train Data Shape is: \",data.shape)\n",
    "data.head()"
   ]
  },
  {
   "cell_type": "markdown",
   "metadata": {
    "_uuid": "89ffcc977d62df960f8ef1273348baf9127856e0"
   },
   "source": [
    "Extracting label from data"
   ]
  },
  {
   "cell_type": "code",
   "execution_count": 4,
   "metadata": {
    "_uuid": "7028d6cb747772f8bbc74d1f6e08d22a675bf6b6"
   },
   "outputs": [
    {
     "name": "stdout",
     "output_type": "stream",
     "text": [
      "Data Shape:  (42000, 784)\n",
      "Label Shape:  (42000,)\n"
     ]
    }
   ],
   "source": [
    "label = data.label\n",
    "data=data.drop('label',axis=1)\n",
    "print(\"Data Shape: \",data.shape)\n",
    "print(\"Label Shape: \",label.shape)"
   ]
  },
  {
   "cell_type": "code",
   "execution_count": 5,
   "metadata": {
    "_uuid": "3f62c246fde233f44face2d54ef9db189b9d102c"
   },
   "outputs": [
    {
     "data": {
      "text/plain": [
       "Index(['pixel0', 'pixel1', 'pixel2', 'pixel3', 'pixel4', 'pixel5', 'pixel6',\n",
       "       'pixel7', 'pixel8', 'pixel9',\n",
       "       ...\n",
       "       'pixel774', 'pixel775', 'pixel776', 'pixel777', 'pixel778', 'pixel779',\n",
       "       'pixel780', 'pixel781', 'pixel782', 'pixel783'],\n",
       "      dtype='object', length=784)"
      ]
     },
     "execution_count": 5,
     "metadata": {},
     "output_type": "execute_result"
    }
   ],
   "source": [
    "data.columns"
   ]
  },
  {
   "cell_type": "markdown",
   "metadata": {
    "_uuid": "221b4798ee0510404479eb64121dd28474ed3fe8"
   },
   "source": [
    "Converting 1D array to 2D 28x28 array using [**reshape**](https://docs.scipy.org/doc/numpy-1.13.0/reference/generated/numpy.reshape.html) , to plot and view grayscale images. "
   ]
  },
  {
   "cell_type": "code",
   "execution_count": 6,
   "metadata": {
    "_uuid": "8649eda8660fba55e68655ed998acde377f05365"
   },
   "outputs": [
    {
     "data": {
      "image/png": "[encoded data removed]",
      "text/plain": [
       "<Figure size 1800x1800 with 4 Axes>"
      ]
     },
     "metadata": {
      "needs_background": "light"
     },
     "output_type": "display_data"
    },
    {
     "data": {
      "image/png": "[encoded data removed]",
      "text/plain": [
       "<Figure size 1800x1800 with 4 Axes>"
      ]
     },
     "metadata": {
      "needs_background": "light"
     },
     "output_type": "display_data"
    },
    {
     "data": {
      "image/png": "[encoded data removed]",
      "text/plain": [
       "<Figure size 1800x1800 with 4 Axes>"
      ]
     },
     "metadata": {
      "needs_background": "light"
     },
     "output_type": "display_data"
    },
    {
     "data": {
      "image/png": "[encoded data removed]",
      "text/plain": [
       "<Figure size 1800x1800 with 4 Axes>"
      ]
     },
     "metadata": {
      "needs_background": "light"
     },
     "output_type": "display_data"
    }
   ],
   "source": [
    "for x in range(0,4):\n",
    "    train_0=data[label==x]\n",
    "    data_new=[]\n",
    "    for idx in train_0.index:\n",
    "        val=train_0.loc[idx].values.reshape(28,28)\n",
    "        data_new.append(val)\n",
    "    plt.figure(figsize=(25,25))   \n",
    "    for x in range(1,5):\n",
    "        ax1=plt.subplot(1, 20, x)\n",
    "        ax1.imshow(data_new[x],cmap='gray')"
   ]
  },
  {
   "cell_type": "markdown",
   "metadata": {
    "_uuid": "ea847f9c61876df1bfcac0f3212233c09675ca2e"
   },
   "source": [
    "Having a look at pixel values frequency (0 to 255)<br>\n",
    "To get a better idea, lets convert the plot to Log Scale.<br>\n",
    "Based on leading 0s and 255s we can try converting it to binary in the later steps to simplify the problem."
   ]
  },
  {
   "cell_type": "code",
   "execution_count": 18,
   "metadata": {
    "_uuid": "d6d5f97c4be2c1f57796cd10a6d074c3627875aa",
    "scrolled": false
   },
   "outputs": [
    {
     "data": {
      "text/plain": [
       "Text(0, 0.5, 'Frequency')"
      ]
     },
     "execution_count": 18,
     "metadata": {},
     "output_type": "execute_result"
    },
    {
     "data": {
      "image/png": "[encoded data removed]",
      "text/plain": [
       "<Figure size 1440x576 with 2 Axes>"
      ]
     },
     "metadata": {
      "needs_background": "light"
     },
     "output_type": "display_data"
    }
   ],
   "source": [
    "y = pd.value_counts(data.values.ravel()).sort_index()\n",
    "N = len(y)\n",
    "x = range(N)\n",
    "width =0.9\n",
    "plt.figure(figsize=[20,8])\n",
    "ax1=plt.subplot(1, 2,1)\n",
    "ax1.bar(x, y, width, color=\"blue\")\n",
    "plt.title('Pixel Value Frequency For Gray Scale Images')\n",
    "plt.xlabel('Pixel Value (0-255)')\n",
    "plt.ylabel('Frequency')\n",
    "#ax1.imshow(data_new[x],cmap='gray')\n",
    "ax2=plt.subplot(1, 2,2)\n",
    "ax2.bar(x, y, width, color=\"blue\")\n",
    "plt.title('Pixel Value Frequency (Log Scale)')\n",
    "plt.yscale('log')\n",
    "plt.xlabel('Pixel Value (0-255)')\n",
    "plt.ylabel('Frequency')\n",
    "#plt.yscale('')"
   ]
  },
  {
   "cell_type": "markdown",
   "metadata": {
    "_uuid": "d91f0c5fff90fff0665e86ebf65dfb70f6733030"
   },
   "source": [
    "### Splitting data into Train and Test Data and Labels\n",
    "<br>\n",
    "\n",
    "Dividing Data randomly into **train** and **test**. Out of total **train.csv** Data, 80% is kept as train for training the model and 20% is kept as test to score the model. "
   ]
  },
  {
   "cell_type": "code",
   "execution_count": 19,
   "metadata": {
    "_uuid": "8ae423aef72c9195efe9f57c449859fbf6ad1e7c"
   },
   "outputs": [
    {
     "name": "stdout",
     "output_type": "stream",
     "text": [
      "Train Data Shape:  (33600, 784)\n",
      "Train Label Shape:  (33600,)\n",
      "Test Data Shape:  (8400, 784)\n",
      "Test Label Shape:  (8400,)\n"
     ]
    }
   ],
   "source": [
    "train, test,train_labels, test_labels = train_test_split(data, label, train_size=0.8, random_state=42)\n",
    "print(\"Train Data Shape: \",train.shape)\n",
    "print(\"Train Label Shape: \",train_labels.shape)\n",
    "print(\"Test Data Shape: \",test.shape)\n",
    "print(\"Test Label Shape: \",test_labels.shape)"
   ]
  },
  {
   "cell_type": "markdown",
   "metadata": {
    "_uuid": "00cfc6bd5a7944a01a6fcec527669547b1a074c8"
   },
   "source": [
    "## <a id=\"clf_svm\">2. Classification using SVM<a>"
   ]
  },
  {
   "cell_type": "markdown",
   "metadata": {
    "_uuid": "5561524ac22defb2c1e7569189e58f493f7da6dc"
   },
   "source": [
    "Using [SVM Classifier](https://scikit-learn.org/stable/modules/generated/sklearn.svm.SVC.html) from sklearn library.<br>\n",
    "We have 33600 training samples, fitting them is going to take alot of time. To keep it simple for now, lets select 5000 out of them.<br>\n",
    "You can change the value i to use the desired number of samples."
   ]
  },
  {
   "cell_type": "code",
   "execution_count": 20,
   "metadata": {
    "_uuid": "a4f19ecf1bbe50355ccad04d5b598f229673dc19"
   },
   "outputs": [],
   "source": [
    "i=5000;\n",
    "score=[]\n",
    "fittime=[]\n",
    "scoretime=[]\n",
    "clf = svm.SVC(random_state=42)"
   ]
  },
  {
   "cell_type": "markdown",
   "metadata": {
    "_uuid": "7ca5d404393ced9c647d0311d101809a18f19fb0"
   },
   "source": [
    "I am not passing parameters in this step to keep it simple and will be using the default ones."
   ]
  },
  {
   "cell_type": "code",
   "execution_count": 21,
   "metadata": {
    "_uuid": "8504c14b53acbf6ea693ef9d935201f21802e7f2"
   },
   "outputs": [
    {
     "name": "stdout",
     "output_type": "stream",
     "text": [
      "Default Parameters are: \n",
      " <bound method BaseEstimator.get_params of SVC(C=1.0, cache_size=200, class_weight=None, coef0=0.0,\n",
      "    decision_function_shape='ovr', degree=3, gamma='auto_deprecated',\n",
      "    kernel='rbf', max_iter=-1, probability=False, random_state=42,\n",
      "    shrinking=True, tol=0.001, verbose=False)>\n"
     ]
    }
   ],
   "source": [
    "print(\"Default Parameters are: \\n\",clf.get_params)"
   ]
  },
  {
   "cell_type": "markdown",
   "metadata": {
    "_uuid": "3111c4c82e727d0874a18773ab67bdafc4b16e0d"
   },
   "source": [
    "### <a id=\"case1\">Case 1 - Gray Scale Images</a>\n"
   ]
  },
  {
   "cell_type": "markdown",
   "metadata": {
    "_uuid": "ee8d91d27c526120a120237a6242e9e34e3adaf5"
   },
   "source": [
    "Fitting train data and finding a score for test data to check model performance"
   ]
  },
  {
   "cell_type": "code",
   "execution_count": 22,
   "metadata": {
    "_uuid": "69ba7a8b8a30292b1fc95f7bee67f0b81e5954ee"
   },
   "outputs": [
    {
     "name": "stdout",
     "output_type": "stream",
     "text": [
      "Time consumed to fit model:  00:02:35\n",
      "Accuracy for grayscale:  0.09345238095238095\n",
      "Time consumed to score:  00:02:00\n"
     ]
    }
   ],
   "source": [
    "start_time = time.time()\n",
    "clf.fit(train[:i], train_labels[:i].values.ravel())\n",
    "fittime = time.time() - start_time\n",
    "print(\"Time consumed to fit model: \",time.strftime(\"%H:%M:%S\", time.gmtime(fittime)))\n",
    "start_time = time.time()\n",
    "score=clf.score(test,test_labels)\n",
    "print(\"Accuracy for grayscale: \",score)\n",
    "scoretime = time.time() - start_time\n",
    "print(\"Time consumed to score: \",time.strftime(\"%H:%M:%S\", time.gmtime(scoretime)))\n",
    "case1=[score,fittime,scoretime]"
   ]
  },
  {
   "cell_type": "markdown",
   "metadata": {
    "_uuid": "706bc87d757ef8c06a8f571b810102c51eed7306"
   },
   "source": [
    "### <a id=\"case2\">Case 2 - Binary Images</a>\n",
    "<br>\n",
    "To simply the problem, converting images to black and white from gray scale by replacing all values > 0 to 1. \n",
    "<br>And Converting 1D array to 2D 28x28 array using [**reshape**](https://docs.scipy.org/doc/numpy-1.13.0/reference/generated/numpy.reshape.html) , to plot and view **binary** images. "
   ]
  },
  {
   "cell_type": "code",
   "execution_count": 23,
   "metadata": {
    "_uuid": "ed59a97b33f44c26c766ab255992790d81ee1e32"
   },
   "outputs": [
    {
     "data": {
      "image/png": "[encoded data removed]",
      "text/plain": [
       "<Figure size 1800x1800 with 4 Axes>"
      ]
     },
     "metadata": {
      "needs_background": "light"
     },
     "output_type": "display_data"
    },
    {
     "data": {
      "image/png": "[encoded data removed]",
      "text/plain": [
       "<Figure size 1800x1800 with 4 Axes>"
      ]
     },
     "metadata": {
      "needs_background": "light"
     },
     "output_type": "display_data"
    },
    {
     "data": {
      "image/png": "[encoded data removed]",
      "text/plain": [
       "<Figure size 1800x1800 with 4 Axes>"
      ]
     },
     "metadata": {
      "needs_background": "light"
     },
     "output_type": "display_data"
    },
    {
     "data": {
      "image/png": "[encoded data removed]",
      "text/plain": [
       "<Figure size 1800x1800 with 4 Axes>"
      ]
     },
     "metadata": {
      "needs_background": "light"
     },
     "output_type": "display_data"
    }
   ],
   "source": [
    "test_b=test\n",
    "train_b=train\n",
    "test_b[test_b>0]=1\n",
    "train_b[train_b>0]=1\n",
    "for x in range(0,4):\n",
    "    train_0=train_b[train_labels==x]\n",
    "    data_new=[]\n",
    "    for idx in train_0.index:\n",
    "        val=train_0.loc[idx].values.reshape(28,28)\n",
    "        data_new.append(val)\n",
    "    plt.figure(figsize=(25,25))   \n",
    "    for x in range(1,5):\n",
    "        ax1=plt.subplot(1, 20, x)\n",
    "        ax1.imshow(data_new[x],cmap='binary')"
   ]
  },
  {
   "cell_type": "code",
   "execution_count": 24,
   "metadata": {
    "_uuid": "89bda3c31aca042b674eb1798d24972a9de0e167"
   },
   "outputs": [
    {
     "name": "stdout",
     "output_type": "stream",
     "text": [
      "Time consumed to fit model:  00:02:35\n",
      "Accuracy for binary:  0.9111904761904762\n",
      "Time consumed to score:  00:00:38\n"
     ]
    }
   ],
   "source": [
    "start_time = time.time()\n",
    "clf.fit(train_b[:i], train_labels[:i].values.ravel())\n",
    "fititme = time.time() - start_time\n",
    "print(\"Time consumed to fit model: \",time.strftime(\"%H:%M:%S\", time.gmtime(fittime)))\n",
    "score=clf.score(test_b,test_labels)\n",
    "start_time = time.time()\n",
    "clf.fit(train_b[:i], train_labels[:i].values.ravel())\n",
    "print(\"Accuracy for binary: \",score)\n",
    "scoretime = time.time() - start_time\n",
    "print(\"Time consumed to score: \",time.strftime(\"%H:%M:%S\", time.gmtime(scoretime)))\n",
    "case2=[score,fittime,scoretime]"
   ]
  },
  {
   "cell_type": "markdown",
   "metadata": {
    "_uuid": "1171433edf950ae881602647476a7da0e0c064cf"
   },
   "source": [
    "It can be seen that for the chosen training samples, accuracy of Case 2 (~90%) is way higher than Case 1 (10%)."
   ]
  },
  {
   "cell_type": "markdown",
   "metadata": {
    "_uuid": "75da213819cf451e23c4794883bf60c7c605049f"
   },
   "source": [
    "However, the high dimensionaly of data is making computational time high. Lets reduce the dimensions using PCA (Principal Component Analysis)\n",
    "\n",
    "### <a id=\"case3\">Case 3 - GrayScale + Dimensionality Reduction - PCA</a> <br>\n",
    "\n",
    "I am using [sklearnPCA](https://scikit-learn.org/stable/modules/generated/sklearn.decomposition.PCA.html) library here to perform PCA Dimensionality Reduction.\n",
    "\n",
    "Here, Data is standardized and PCA is performed on data with all the components. Then variance is plotted for all components to decide which components to remove. "
   ]
  },
  {
   "cell_type": "code",
   "execution_count": 25,
   "metadata": {
    "_uuid": "8b5a683aa116f9fef6080922a311b9b33c95a72c"
   },
   "outputs": [
    {
     "data": {
      "text/plain": [
       "Text(0, 0.5, 'Variance')"
      ]
     },
     "execution_count": 25,
     "metadata": {},
     "output_type": "execute_result"
    },
    {
     "data": {
      "image/png": "[encoded data removed]",
      "text/plain": [
       "<Figure size 2160x720 with 1 Axes>"
      ]
     },
     "metadata": {
      "needs_background": "light"
     },
     "output_type": "display_data"
    }
   ],
   "source": [
    "from sklearn.preprocessing import StandardScaler\n",
    "from sklearn.decomposition import PCA as sklearnPCA\n",
    "\n",
    "#standardized data\n",
    "sc = StandardScaler().fit(train)\n",
    "X_std_train = sc.transform(train)\n",
    "X_std_test = sc.transform(test)\n",
    "\n",
    "#If n_components is not set then all components are stored \n",
    "sklearn_pca = sklearnPCA().fit(X_std_train)\n",
    "train_pca = sklearn_pca.transform(X_std_train)\n",
    "test_pca = sklearn_pca.transform(X_std_test)\n",
    "\n",
    "#Percentage of variance explained by each of the selected components.\n",
    "#If n_components is not set then all components are stored and the sum of the ratios is equal to 1.0.\n",
    "var_per = sklearn_pca.explained_variance_ratio_\n",
    "cum_var_per = sklearn_pca.explained_variance_ratio_.cumsum()\n",
    "\n",
    "plt.figure(figsize=(30,10))\n",
    "ind = np.arange(len(var_per)) \n",
    "plt.bar(ind,var_per)\n",
    "plt.xlabel('n_components')\n",
    "plt.ylabel('Variance')"
   ]
  },
  {
   "cell_type": "markdown",
   "metadata": {
    "_uuid": "942a0a27077b16381a6150444488fb7ab6795de6"
   },
   "source": [
    "Keeping 90% of information by choosing components falling within 0.90 cumulative."
   ]
  },
  {
   "cell_type": "code",
   "execution_count": 26,
   "metadata": {
    "_uuid": "689a6957bd4285ea52a6f886897a1e60e84470d3"
   },
   "outputs": [
    {
     "name": "stdout",
     "output_type": "stream",
     "text": [
      "Keeping 90% Info with  429  components\n",
      "Shape before PCA for Train:  (33600, 784)\n",
      "Shape after PCA for Train:  (33600, 429)\n",
      "Shape before PCA for Test:  (8400, 784)\n",
      "Shape after PCA for Test:  (8400, 429)\n"
     ]
    }
   ],
   "source": [
    "n_comp=len(cum_var_per[cum_var_per <= 0.95])\n",
    "print(\"Keeping 90% Info with \",n_comp,\" components\")\n",
    "sklearn_pca = sklearnPCA(n_components=n_comp)\n",
    "train_pca = sklearn_pca.fit_transform(X_std_train)\n",
    "test_pca = sklearn_pca.transform(X_std_test)\n",
    "print(\"Shape before PCA for Train: \",X_std_train.shape)\n",
    "print(\"Shape after PCA for Train: \",train_pca.shape)\n",
    "print(\"Shape before PCA for Test: \",X_std_test.shape)\n",
    "print(\"Shape after PCA for Test: \",test_pca.shape)\n"
   ]
  },
  {
   "cell_type": "markdown",
   "metadata": {
    "_uuid": "2856d55886ff926c977bfd9edc8b5bd701c4486a"
   },
   "source": [
    "Lets find the score using reduced dimensions keeping the same amount of samples, to compare accuracy."
   ]
  },
  {
   "cell_type": "code",
   "execution_count": 27,
   "metadata": {
    "_uuid": "83850b8d7414c50ecf51a0694ec66b8d132b4427"
   },
   "outputs": [
    {
     "name": "stdout",
     "output_type": "stream",
     "text": [
      "Time consumed to fit model:  00:00:22\n",
      "Accuracy for grayscale:  0.9232142857142858\n",
      "Time consumed to score model:  00:00:37\n"
     ]
    }
   ],
   "source": [
    "start_time = time.time()\n",
    "clf.fit(train_pca[:i], train_labels[:i].values.ravel())\n",
    "fittime = time.time() - start_time\n",
    "print(\"Time consumed to fit model: \",time.strftime(\"%H:%M:%S\", time.gmtime(fittime)))\n",
    "start_time = time.time()\n",
    "score=clf.score(test_pca,test_labels)\n",
    "print(\"Accuracy for grayscale: \",score)\n",
    "scoretime = time.time() - start_time\n",
    "print(\"Time consumed to score model: \",time.strftime(\"%H:%M:%S\", time.gmtime(scoretime)))\n",
    "case3=[score,fittime,scoretime]"
   ]
  },
  {
   "cell_type": "markdown",
   "metadata": {
    "_uuid": "115c2156d80de117f13498311f9d398eeb42f345"
   },
   "source": [
    "It can be seen that for the chosen training samples, accuracy of Case1 after PCA is (~91%) which was previously (10%)."
   ]
  },
  {
   "cell_type": "markdown",
   "metadata": {
    "_uuid": "7ed8b4e2bde47c868f516c3c3a31177d421bd052"
   },
   "source": [
    "### <a id=\"case4\">Case 4 - Binary + Dimensionality Reduction - PCA</a> <br> \n",
    "<br>\n",
    "Using the steps steps we used in Case 3."
   ]
  },
  {
   "cell_type": "code",
   "execution_count": 28,
   "metadata": {
    "_uuid": "bb88942452fe5b274fc8d10c8a0bfb298a326018"
   },
   "outputs": [
    {
     "data": {
      "text/plain": [
       "Text(0, 0.5, 'Variance')"
      ]
     },
     "execution_count": 28,
     "metadata": {},
     "output_type": "execute_result"
    },
    {
     "data": {
      "image/png": "[encoded data removed]",
      "text/plain": [
       "<Figure size 2160x360 with 1 Axes>"
      ]
     },
     "metadata": {
      "needs_background": "light"
     },
     "output_type": "display_data"
    }
   ],
   "source": [
    "from sklearn.preprocessing import StandardScaler\n",
    "from sklearn.decomposition import PCA as sklearnPCA\n",
    "\n",
    "#standardized data\n",
    "sc = StandardScaler().fit(train_b)\n",
    "X_std_train = sc.transform(train_b)\n",
    "X_std_test = sc.transform(test_b)\n",
    "\n",
    "#If n_components is not set then all components are stored \n",
    "sklearn_pca = sklearnPCA().fit(X_std_train)\n",
    "#train_pca_b = sklearn_pca.transform(X_std_train)\n",
    "#test_pca_b = sklearn_pca.transform(X_std_test)\n",
    "\n",
    "#Percentage of variance explained by each of the selected components.\n",
    "#If n_components is not set then all components are stored and the sum of the ratios is equal to 1.0.\n",
    "var_per = sklearn_pca.explained_variance_ratio_\n",
    "cum_var_per = sklearn_pca.explained_variance_ratio_.cumsum()\n",
    "\n",
    "plt.figure(figsize=(30,5))\n",
    "ind = np.arange(len(var_per)) \n",
    "plt.bar(ind,var_per)\n",
    "plt.xlabel('n_components')\n",
    "plt.ylabel('Variance')"
   ]
  },
  {
   "cell_type": "code",
   "execution_count": null,
   "metadata": {
    "_uuid": "2cfaf6af596614b5d2e1fa29a94d35a294637d43"
   },
   "outputs": [],
   "source": [
    "n_comp=len(cum_var_per[cum_var_per <= 0.95])\n",
    "print(\"Keeping 90% Info with \",n_comp,\" components\")\n",
    "sklearn_pca = sklearnPCA(n_components=n_comp)\n",
    "train_pca_b = sklearn_pca.fit_transform(X_std_train)\n",
    "test_pca_b = sklearn_pca.transform(X_std_test)\n",
    "print(\"Shape before PCA for Train: \",X_std_train.shape)\n",
    "print(\"Shape after PCA for Train: \",train_pca_b.shape)\n",
    "print(\"Shape before PCA for Test: \",X_std_test.shape)\n",
    "print(\"Shape after PCA for Test: \",test_pca_b.shape)"
   ]
  },
  {
   "cell_type": "code",
   "execution_count": 30,
   "metadata": {
    "_uuid": "61e09e1d8523959857f75b553029a3be9927710c"
   },
   "outputs": [
    {
     "name": "stdout",
     "output_type": "stream",
     "text": [
      "Time consumed to fit model:  00:00:15\n",
      "Accuracy for grayscale:  0.9191666666666667\n",
      "Time consumed to score model:  00:00:20\n"
     ]
    }
   ],
   "source": [
    "start_time = time.time()\n",
    "clf.fit(train_pca_b[:i], train_labels[:i].values.ravel())\n",
    "fittime = time.time() - start_time\n",
    "print(\"Time consumed to fit model: \",time.strftime(\"%H:%M:%S\", time.gmtime(fittime)))\n",
    "start_time = time.time()\n",
    "score=clf.score(test_pca_b,test_labels)\n",
    "print(\"Accuracy for grayscale: \",score)\n",
    "scoretime = time.time() - start_time\n",
    "print(\"Time consumed to score model: \",time.strftime(\"%H:%M:%S\", time.gmtime(scoretime)))\n",
    "case4=[score,fittime,scoretime]"
   ]
  },
  {
   "cell_type": "markdown",
   "metadata": {
    "_uuid": "0fdb69535af0e98e1cbbde92dba5a9fbfad8d2c6"
   },
   "source": [
    "### <a id=\"cases\">Comparison of 4 Cases</a>"
   ]
  },
  {
   "cell_type": "code",
   "execution_count": 31,
   "metadata": {
    "_uuid": "155dc8965c12633bbd50cd76f430b664ca9166f1"
   },
   "outputs": [
    {
     "name": "stdout",
     "output_type": "stream",
     "text": [
      "\t\t case1 \t\t\t case2 \t\t\t case3 \t\t\t case4\n",
      "Accuracy\t0.09345238095238095\t0.9111904761904762\t0.9232142857142858\t0.9191666666666667\n",
      "FittingTime\t155.45564579963684\t155.45564579963684\t22.565874338150024\t15.03504228591919\n",
      "ScoringTime\t120.7395339012146\t38.719080448150635\t37.41242074966431\t20.024869680404663\n"
     ]
    }
   ],
   "source": [
    "head =[\"Accuracy\",\"FittingTime\",\"ScoringTime\"]\n",
    "print(\"\\t\\t case1 \\t\\t\\t case2 \\t\\t\\t case3 \\t\\t\\t case4\")\n",
    "for h, c1, c2, c3, c4 in zip(head, case1, case2, case3, case4):\n",
    "    print(\"{}\\t{}\\t{}\\t{}\\t{}\".format(h, c1, c2, c3, c4))"
   ]
  },
  {
   "cell_type": "markdown",
   "metadata": {
    "_uuid": "cee49d831fa188b89e5608b10edf27efa8548df9"
   },
   "source": [
    "**Observations:**\n",
    "*  By simplifying the problem in Case 2 (by converting images to binary), accuracy increases from ~10% to ~91% for the chosen number of samples.\n",
    "* By reducing dimensions in Case3 and Case4, Fitting Times Reduces Drastically from ~43sec to ~6sec for the chosen number of samples."
   ]
  },
  {
   "cell_type": "markdown",
   "metadata": {
    "_uuid": "e988066a8fb67a0ffff18d3b7e5c76d93a8c20ee"
   },
   "source": [
    " ## <a id=\"sizevsacc\">4. Training Data Size Vs Accuracy , Fitting & Score Times </a>\n",
    "\n",
    "\n",
    "<br>Understanding how training data size affects accuracy,"
   ]
  },
  {
   "cell_type": "code",
   "execution_count": null,
   "metadata": {
    "_uuid": "39eb60f9a4d27193ec9683f32fa235d65983fab3"
   },
   "outputs": [
    {
     "name": "stderr",
     "output_type": "stream",
     "text": [
      " 67%|██████▋   | 4/6 [05:43<02:53, 86.77s/it]"
     ]
    }
   ],
   "source": [
    "from tqdm import tqdm\n",
    "\n",
    "fit_time=[]\n",
    "score=[]\n",
    "score_time=[]\n",
    "for j in tqdm(range(1000,31000,5000)):\n",
    "    start_time = time.time()\n",
    "    clf.fit(train_pca_b[:j], train_labels[:j].values.ravel())\n",
    "    fit_time.append(time.time() - start_time)\n",
    "    start_time = time.time()\n",
    "    score.append(clf.score(test_pca_b,test_labels))\n",
    "    score_time.append(time.time() - start_time)"
   ]
  },
  {
   "cell_type": "code",
   "execution_count": null,
   "metadata": {
    "_uuid": "b84c0f9dbd1ec565ec8ba52bad053b32fddbc510"
   },
   "outputs": [],
   "source": [
    "x=list(range(1000,31000,5000))\n",
    "plt.figure(figsize=[20,5]);\n",
    "ax1=plt.subplot(1, 2,1)\n",
    "ax1.plot(x,score,'-o');\n",
    "plt.xlabel('Number of Training Samples')\n",
    "plt.ylabel('Accuray')\n",
    "ax2=plt.subplot(1, 2,2)\n",
    "ax2.plot(x,score_time,'-o');\n",
    "ax2.plot(x,fit_time,'-o');\n",
    "plt.xlabel('Number of Training Samples')\n",
    "plt.ylabel('Time to Compute Score/Fit (sec)')\n",
    "plt.legend(['score_time','fitting_time'])"
   ]
  },
  {
   "cell_type": "markdown",
   "metadata": {
    "_uuid": "625abebd124da7f270366ce14803849ae132babd"
   },
   "source": [
    "## <a id=\"param\"> 5. Parameter Selection for SVM using GridSearchCV</a>"
   ]
  },
  {
   "cell_type": "markdown",
   "metadata": {
    "_uuid": "be7a408d0ce7619baeda78be1f7076cb234fc85d"
   },
   "source": [
    "Out of parameters below, I will use **Gamma** and **C**, where<br> <br>[Gamma](https://www.quora.com/What-are-C-and-gamma-with-regards-to-a-support-vector-machine) is the parameter of a Gaussian Kernel (to handle non-linear classification)<br>\n",
    "    and **C** the parameter for the soft margin cost function, also known as cost of misclassification. A large C gives you low bias and high variance and vice versa."
   ]
  },
  {
   "cell_type": "code",
   "execution_count": null,
   "metadata": {
    "_uuid": "7d159826b5900fa4c595e4636eefd907c5ccf7dd"
   },
   "outputs": [],
   "source": [
    "clf.get_params"
   ]
  },
  {
   "cell_type": "code",
   "execution_count": null,
   "metadata": {
    "_uuid": "c94a4d6b8f4cf8b890e92a4d8174b74064a4bb1a"
   },
   "outputs": [],
   "source": [
    "parameters = {'gamma': [1, 0.1, 0.01, 0.001],\n",
    "             'C': [1000, 100, 10, 1]} \n",
    "\n",
    "p = GridSearchCV(clf , param_grid=parameters, cv=3)"
   ]
  },
  {
   "cell_type": "markdown",
   "metadata": {
    "_uuid": "df4787a31c0c1b73c8ad69bef0627ce4bd960a4b"
   },
   "source": [
    "For Case 4 (Binary Images and PCA Reduction):"
   ]
  },
  {
   "cell_type": "code",
   "execution_count": null,
   "metadata": {
    "_uuid": "b8a719c451cbe4657db8729a955b589af5b516fa"
   },
   "outputs": [],
   "source": [
    "X=train_pca_b[:i]\n",
    "y=train_labels[:i].values.ravel()\n",
    "start_time = time.time()\n",
    "p.fit(X,y)\n",
    "elapsed_time = time.time() - start_time\n",
    "print(\"Time consumed to fit model: \",time.strftime(\"%H:%M:%S\", time.gmtime(elapsed_time)))"
   ]
  },
  {
   "cell_type": "code",
   "execution_count": null,
   "metadata": {
    "_uuid": "2529088018fc6d4092f31c58c60fae5b4943dc06"
   },
   "outputs": [],
   "source": [
    "print(\"Scores for all Parameter Combination: \\n\",p.cv_results_['mean_test_score'])\n",
    "print(\"\\nOptimal C and Gamma Combination: \",p.best_params_)\n",
    "print(\"\\nMaximum Accuracy acheieved on LeftOut Data: \",p.best_score_)"
   ]
  },
  {
   "cell_type": "markdown",
   "metadata": {
    "_uuid": "ee4085fb36b5182f21dafbdee5b209107afeff3d"
   },
   "source": [
    "To verify, lets pass the optimal parameters to Classifier and check the score."
   ]
  },
  {
   "cell_type": "code",
   "execution_count": null,
   "metadata": {
    "_uuid": "5d11a80f9ab2472229ba1fe4c672c68a18fcb34e"
   },
   "outputs": [],
   "source": [
    "C=p.best_params_['C']\n",
    "gamma=p.best_params_['gamma']\n",
    "clf=svm.SVC(C=C,gamma=gamma, random_state=42)"
   ]
  },
  {
   "cell_type": "code",
   "execution_count": null,
   "metadata": {
    "_uuid": "67c5707a3396b388468b3a64f502a0a6ac620913"
   },
   "outputs": [],
   "source": [
    "start_time = time.time()\n",
    "clf.fit(train_pca_b[:i], train_labels[:i].values.ravel())\n",
    "elapsed_time = time.time() - start_time\n",
    "print(\"Time consumed to fit model: \",time.strftime(\"%H:%M:%S\", time.gmtime(elapsed_time)))\n",
    "print(\"Accuracy for binary: \",clf.score(test_pca_b,test_labels))"
   ]
  },
  {
   "cell_type": "markdown",
   "metadata": {
    "_uuid": "3b606d288efccd01639468da960149c021c64723"
   },
   "source": [
    "It can be seen that for the chosen training samples, accuracy of Case 2 has increased from (~91%) to (94%) for the optimal parameters.<br>\n",
    "Now using all training samples"
   ]
  },
  {
   "cell_type": "code",
   "execution_count": null,
   "metadata": {
    "_uuid": "4044cb747bc9131eea61d04e8296717d407117a9"
   },
   "outputs": [],
   "source": [
    "start_time = time.time()\n",
    "clf.fit(train_pca_b, train_labels.values.ravel())\n",
    "elapsed_time = time.time() - start_time\n",
    "print(\"Time consumed to fit model: \",time.strftime(\"%H:%M:%S\", time.gmtime(elapsed_time)))\n",
    "print(\"Accuracy for binary: \",clf.score(test_pca_b,test_labels))"
   ]
  }
 ],
 "metadata": {
  "kernelspec": {
   "display_name": "Python 3",
   "language": "python",
   "name": "python3"
  },
  "language_info": {
   "codemirror_mode": {
    "name": "ipython",
    "version": 3
   },
   "file_extension": ".py",
   "mimetype": "text/x-python",
   "name": "python",
   "nbconvert_exporter": "python",
   "pygments_lexer": "ipython3",
   "version": "3.7.6"
  }
 },
 "nbformat": 4,
 "nbformat_minor": 1
}
